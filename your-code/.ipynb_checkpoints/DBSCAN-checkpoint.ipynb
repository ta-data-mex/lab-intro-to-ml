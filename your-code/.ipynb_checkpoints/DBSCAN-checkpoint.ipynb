{
 "cells": [
  {
   "cell_type": "code",
   "execution_count": 21,
   "metadata": {},
   "outputs": [],
   "source": [
    "#%%\n",
    "import numpy\n",
    "from sklearn.datasets.samples_generator import make_blobs\n",
    "from sklearn.neighbors import NearestNeighbors\n",
    "from sklearn.cluster import DBSCAN, KMeans\n",
    "from matplotlib import pyplot as plt\n",
    "import seaborn as sns\n",
    "%matplotlib inline\n",
    "sns.set()"
   ]
  },
  {
   "cell_type": "code",
   "execution_count": 2,
   "metadata": {},
   "outputs": [
    {
     "data": {
      "text/plain": [
       "<matplotlib.collections.PathCollection at 0x234ee3344e0>"
      ]
     },
     "execution_count": 2,
     "metadata": {},
     "output_type": "execute_result"
    },
    {
     "data": {
      "image/png": "[encoded data removed]",
      "text/plain": [
       "<Figure size 432x288 with 1 Axes>"
      ]
     },
     "metadata": {
      "needs_background": "light"
     },
     "output_type": "display_data"
    }
   ],
   "source": [
    "#%%\n",
    "X, y = make_blobs(n_samples = 300, centers=4, cluster_std = 0.60, random_state= 0)\n",
    "plt.scatter(X[:,0], X[:,1])\n"
   ]
  },
  {
   "cell_type": "code",
   "execution_count": 7,
   "metadata": {},
   "outputs": [],
   "source": [
    "#%%\n",
    "vecino = NearestNeighbors(n_neighbors = 2) #2\n",
    "modelo = vecino.fit(X)\n",
    "distances, indices = modelo.kneighbors(X)"
   ]
  },
  {
   "cell_type": "code",
   "execution_count": 8,
   "metadata": {},
   "outputs": [
    {
     "data": {
      "text/plain": [
       "array([[0.        , 0.49822928],\n",
       "       [0.        , 0.08829225],\n",
       "       [0.        , 0.12019666],\n",
       "       [0.        , 0.11049628],\n",
       "       [0.        , 0.31064694],\n",
       "       [0.        , 0.61124146],\n",
       "       [0.        , 0.35774854],\n",
       "       [0.        , 0.01966341],\n",
       "       [0.        , 0.29733787],\n",
       "       [0.        , 0.03349706],\n",
       "       [0.        , 0.08393989],\n",
       "       [0.        , 0.28828177],\n",
       "       [0.        , 0.14403194],\n",
       "       [0.        , 0.3005636 ],\n",
       "       [0.        , 0.12156709],\n",
       "       [0.        , 0.1666952 ],\n",
       "       [0.        , 0.02207558],\n",
       "       [0.        , 0.11856671],\n",
       "       [0.        , 0.07770645],\n",
       "       [0.        , 0.01593125],\n",
       "       [0.        , 0.20980317],\n",
       "       [0.        , 0.06166964],\n",
       "       [0.        , 0.26472336],\n",
       "       [0.        , 0.22898617],\n",
       "       [0.        , 0.17967984],\n",
       "       [0.        , 0.56539061],\n",
       "       [0.        , 0.09434692],\n",
       "       [0.        , 0.11509095],\n",
       "       [0.        , 0.40987856],\n",
       "       [0.        , 0.23293743],\n",
       "       [0.        , 0.19531115],\n",
       "       [0.        , 0.10864143],\n",
       "       [0.        , 0.18978456],\n",
       "       [0.        , 0.15789589],\n",
       "       [0.        , 0.0432228 ],\n",
       "       [0.        , 0.08200176],\n",
       "       [0.        , 0.07581508],\n",
       "       [0.        , 0.09469163],\n",
       "       [0.        , 0.24927461],\n",
       "       [0.        , 0.00975014],\n",
       "       [0.        , 0.25468964],\n",
       "       [0.        , 0.13438155],\n",
       "       [0.        , 0.31991687],\n",
       "       [0.        , 0.13971857],\n",
       "       [0.        , 0.06979926],\n",
       "       [0.        , 0.08318165],\n",
       "       [0.        , 0.14393191],\n",
       "       [0.        , 0.1083796 ],\n",
       "       [0.        , 0.08542599],\n",
       "       [0.        , 0.07167141],\n",
       "       [0.        , 0.22255221],\n",
       "       [0.        , 0.07204812],\n",
       "       [0.        , 0.21929592],\n",
       "       [0.        , 0.09758787],\n",
       "       [0.        , 0.26305303],\n",
       "       [0.        , 0.08480982],\n",
       "       [0.        , 0.411357  ],\n",
       "       [0.        , 0.23733639],\n",
       "       [0.        , 0.08021003],\n",
       "       [0.        , 0.17149737],\n",
       "       [0.        , 0.21272027],\n",
       "       [0.        , 0.1095539 ],\n",
       "       [0.        , 0.55886876],\n",
       "       [0.        , 0.01430681],\n",
       "       [0.        , 0.24257696],\n",
       "       [0.        , 0.08480982],\n",
       "       [0.        , 0.08200176],\n",
       "       [0.        , 0.12404174],\n",
       "       [0.        , 0.14591083],\n",
       "       [0.        , 0.19724095],\n",
       "       [0.        , 0.2220933 ],\n",
       "       [0.        , 0.18885508],\n",
       "       [0.        , 0.12039139],\n",
       "       [0.        , 0.06578034],\n",
       "       [0.        , 0.23647322],\n",
       "       [0.        , 0.16400682],\n",
       "       [0.        , 0.03932308],\n",
       "       [0.        , 0.1216412 ],\n",
       "       [0.        , 0.15641004],\n",
       "       [0.        , 0.1426018 ],\n",
       "       [0.        , 0.23300561],\n",
       "       [0.        , 0.02296282],\n",
       "       [0.        , 0.17149737],\n",
       "       [0.        , 0.06166964],\n",
       "       [0.        , 0.16400682],\n",
       "       [0.        , 0.06423229],\n",
       "       [0.        , 0.03769112],\n",
       "       [0.        , 0.10192291],\n",
       "       [0.        , 0.3005636 ],\n",
       "       [0.        , 0.08542599],\n",
       "       [0.        , 0.1666952 ],\n",
       "       [0.        , 0.09434692],\n",
       "       [0.        , 0.30068697],\n",
       "       [0.        , 0.03932308],\n",
       "       [0.        , 0.08115241],\n",
       "       [0.        , 0.11482982],\n",
       "       [0.        , 0.05623953],\n",
       "       [0.        , 0.00647163],\n",
       "       [0.        , 0.18821858],\n",
       "       [0.        , 0.44563434],\n",
       "       [0.        , 0.11971729],\n",
       "       [0.        , 0.38493956],\n",
       "       [0.        , 0.09447441],\n",
       "       [0.        , 0.11121558],\n",
       "       [0.        , 0.02207558],\n",
       "       [0.        , 0.09335536],\n",
       "       [0.        , 0.01264242],\n",
       "       [0.        , 0.20161588],\n",
       "       [0.        , 0.1971566 ],\n",
       "       [0.        , 0.06423229],\n",
       "       [0.        , 0.01593125],\n",
       "       [0.        , 0.12641423],\n",
       "       [0.        , 0.16345958],\n",
       "       [0.        , 0.33069345],\n",
       "       [0.        , 0.13688333],\n",
       "       [0.        , 0.24061987],\n",
       "       [0.        , 0.06779552],\n",
       "       [0.        , 0.25635988],\n",
       "       [0.        , 0.02878472],\n",
       "       [0.        , 0.18821858],\n",
       "       [0.        , 0.31626272],\n",
       "       [0.        , 0.05056531],\n",
       "       [0.        , 0.33806562],\n",
       "       [0.        , 0.04827548],\n",
       "       [0.        , 0.24519004],\n",
       "       [0.        , 0.13644162],\n",
       "       [0.        , 0.00975014],\n",
       "       [0.        , 0.06142808],\n",
       "       [0.        , 0.19256561],\n",
       "       [0.        , 0.13772595],\n",
       "       [0.        , 0.23337164],\n",
       "       [0.        , 0.06979926],\n",
       "       [0.        , 0.07878442],\n",
       "       [0.        , 0.01264242],\n",
       "       [0.        , 0.10259092],\n",
       "       [0.        , 0.10755353],\n",
       "       [0.        , 0.23544821],\n",
       "       [0.        , 0.07581508],\n",
       "       [0.        , 0.15913959],\n",
       "       [0.        , 0.17153615],\n",
       "       [0.        , 0.09469163],\n",
       "       [0.        , 0.01430681],\n",
       "       [0.        , 0.26751856],\n",
       "       [0.        , 0.32979699],\n",
       "       [0.        , 0.25730896],\n",
       "       [0.        , 0.07878442],\n",
       "       [0.        , 0.10259092],\n",
       "       [0.        , 0.23293743],\n",
       "       [0.        , 0.19267973],\n",
       "       [0.        , 0.08530597],\n",
       "       [0.        , 0.13256145],\n",
       "       [0.        , 0.04626217],\n",
       "       [0.        , 0.14171121],\n",
       "       [0.        , 0.09078366],\n",
       "       [0.        , 0.07250337],\n",
       "       [0.        , 0.03245783],\n",
       "       [0.        , 0.12039139],\n",
       "       [0.        , 0.07958344],\n",
       "       [0.        , 0.0991543 ],\n",
       "       [0.        , 0.18480257],\n",
       "       [0.        , 0.3107807 ],\n",
       "       [0.        , 0.08739771],\n",
       "       [0.        , 0.10964975],\n",
       "       [0.        , 0.02878472],\n",
       "       [0.        , 0.23329901],\n",
       "       [0.        , 0.39129344],\n",
       "       [0.        , 0.72411965],\n",
       "       [0.        , 0.07541255],\n",
       "       [0.        , 0.0944693 ],\n",
       "       [0.        , 0.01234906],\n",
       "       [0.        , 0.15106217],\n",
       "       [0.        , 0.14553834],\n",
       "       [0.        , 0.03905497],\n",
       "       [0.        , 0.23419336],\n",
       "       [0.        , 0.32979699],\n",
       "       [0.        , 0.09067363],\n",
       "       [0.        , 0.29118898],\n",
       "       [0.        , 0.09335536],\n",
       "       [0.        , 0.02296282],\n",
       "       [0.        , 0.053448  ],\n",
       "       [0.        , 0.13976049],\n",
       "       [0.        , 0.13971857],\n",
       "       [0.        , 0.25169873],\n",
       "       [0.        , 0.04666165],\n",
       "       [0.        , 0.08453753],\n",
       "       [0.        , 0.01966341],\n",
       "       [0.        , 0.12019666],\n",
       "       [0.        , 0.06394655],\n",
       "       [0.        , 0.09103051],\n",
       "       [0.        , 0.19205733],\n",
       "       [0.        , 0.23176964],\n",
       "       [0.        , 0.07923392],\n",
       "       [0.        , 0.06984003],\n",
       "       [0.        , 0.1095539 ],\n",
       "       [0.        , 0.13438155],\n",
       "       [0.        , 0.06142808],\n",
       "       [0.        , 0.24002308],\n",
       "       [0.        , 0.09325163],\n",
       "       [0.        , 0.07958344],\n",
       "       [0.        , 0.13157714],\n",
       "       [0.        , 0.01234906],\n",
       "       [0.        , 0.14536256],\n",
       "       [0.        , 0.18263659],\n",
       "       [0.        , 0.13772595],\n",
       "       [0.        , 0.11482982],\n",
       "       [0.        , 0.78860553],\n",
       "       [0.        , 0.1083796 ],\n",
       "       [0.        , 0.03349706],\n",
       "       [0.        , 0.1216412 ],\n",
       "       [0.        , 0.15789589],\n",
       "       [0.        , 0.14403194],\n",
       "       [0.        , 0.1101499 ],\n",
       "       [0.        , 0.08453753],\n",
       "       [0.        , 0.24207383],\n",
       "       [0.        , 0.05592457],\n",
       "       [0.        , 0.22717367],\n",
       "       [0.        , 0.18303442],\n",
       "       [0.        , 0.066143  ],\n",
       "       [0.        , 0.58022027],\n",
       "       [0.        , 0.14029948],\n",
       "       [0.        , 0.08530597],\n",
       "       [0.        , 0.07204812],\n",
       "       [0.        , 0.066143  ],\n",
       "       [0.        , 0.05158224],\n",
       "       [0.        , 0.07250337],\n",
       "       [0.        , 0.04636689],\n",
       "       [0.        , 0.15913959],\n",
       "       [0.        , 0.17153615],\n",
       "       [0.        , 0.09067363],\n",
       "       [0.        , 0.23419336],\n",
       "       [0.        , 0.15106217],\n",
       "       [0.        , 0.24050799],\n",
       "       [0.        , 0.19436544],\n",
       "       [0.        , 0.24895377],\n",
       "       [0.        , 0.07388278],\n",
       "       [0.        , 0.06394655],\n",
       "       [0.        , 0.1460482 ],\n",
       "       [0.        , 0.08115241],\n",
       "       [0.        , 0.34328702],\n",
       "       [0.        , 0.14030649],\n",
       "       [0.        , 0.16030616],\n",
       "       [0.        , 0.07541255],\n",
       "       [0.        , 0.31690933],\n",
       "       [0.        , 0.06779552],\n",
       "       [0.        , 0.12673309],\n",
       "       [0.        , 0.21611552],\n",
       "       [0.        , 0.0432228 ],\n",
       "       [0.        , 0.12641423],\n",
       "       [0.        , 0.09913369],\n",
       "       [0.        , 0.14171121],\n",
       "       [0.        , 0.31020985],\n",
       "       [0.        , 0.04666165],\n",
       "       [0.        , 0.03905497],\n",
       "       [0.        , 0.11509095],\n",
       "       [0.        , 0.21704432],\n",
       "       [0.        , 0.42995328],\n",
       "       [0.        , 0.52120874],\n",
       "       [0.        , 0.22596451],\n",
       "       [0.        , 0.13644162],\n",
       "       [0.        , 0.05592457],\n",
       "       [0.        , 0.04626217],\n",
       "       [0.        , 0.10192291],\n",
       "       [0.        , 0.22255221],\n",
       "       [0.        , 0.04827548],\n",
       "       [0.        , 0.23337164],\n",
       "       [0.        , 0.053448  ],\n",
       "       [0.        , 0.25655518],\n",
       "       [0.        , 0.09447441],\n",
       "       [0.        , 0.23476712],\n",
       "       [0.        , 0.11423238],\n",
       "       [0.        , 0.14135314],\n",
       "       [0.        , 0.04636689],\n",
       "       [0.        , 0.17967984],\n",
       "       [0.        , 0.24061987],\n",
       "       [0.        , 0.58132588],\n",
       "       [0.        , 0.18263659],\n",
       "       [0.        , 0.05623953],\n",
       "       [0.        , 0.31020985],\n",
       "       [0.        , 0.14393191],\n",
       "       [0.        , 0.08021003],\n",
       "       [0.        , 0.25656675],\n",
       "       [0.        , 0.00647163],\n",
       "       [0.        , 0.09325163],\n",
       "       [0.        , 0.03769112],\n",
       "       [0.        , 0.12874176],\n",
       "       [0.        , 0.31690933],\n",
       "       [0.        , 0.1812924 ],\n",
       "       [0.        , 0.18885508],\n",
       "       [0.        , 0.24050799],\n",
       "       [0.        , 0.19569748],\n",
       "       [0.        , 0.70707372],\n",
       "       [0.        , 0.07714258],\n",
       "       [0.        , 0.19267973],\n",
       "       [0.        , 0.29313186],\n",
       "       [0.        , 0.14619334],\n",
       "       [0.        , 0.07167141],\n",
       "       [0.        , 0.09103051],\n",
       "       [0.        , 0.11844863],\n",
       "       [0.        , 0.411357  ],\n",
       "       [0.        , 0.08393989]])"
      ]
     },
     "execution_count": 8,
     "metadata": {},
     "output_type": "execute_result"
    }
   ],
   "source": [
    "#%%\n",
    "distances"
   ]
  },
  {
   "cell_type": "code",
   "execution_count": 9,
   "metadata": {},
   "outputs": [
    {
     "data": {
      "text/plain": [
       "[<matplotlib.lines.Line2D at 0x234ee4616a0>]"
      ]
     },
     "execution_count": 9,
     "metadata": {},
     "output_type": "execute_result"
    },
    {
     "data": {
      "image/png": "[encoded data removed]",
      "text/plain": [
       "<Figure size 432x288 with 1 Axes>"
      ]
     },
     "metadata": {
      "needs_background": "light"
     },
     "output_type": "display_data"
    }
   ],
   "source": [
    "#%%\n",
    "distances = numpy.sort(distances, axis=0)\n",
    "distances = distances[:,1]\n",
    "plt.plot(distances)"
   ]
  },
  {
   "cell_type": "code",
   "execution_count": 13,
   "metadata": {},
   "outputs": [
    {
     "data": {
      "text/plain": [
       "DBSCAN(algorithm='auto', eps=0.3, leaf_size=30, metric='euclidean',\n",
       "       metric_params=None, min_samples=5, n_jobs=None, p=None)"
      ]
     },
     "execution_count": 13,
     "metadata": {},
     "output_type": "execute_result"
    }
   ],
   "source": [
    "#%%\n",
    "m = DBSCAN(eps=0.3, min_samples=5) #EPS 0.3\n",
    "m.fit(X)"
   ]
  },
  {
   "cell_type": "code",
   "execution_count": 15,
   "metadata": {},
   "outputs": [
    {
     "data": {
      "text/plain": [
       "array([-1,  0,  1,  0, -1, -1, -1,  1, -1,  4,  2, -1,  1, -1, -1,  1,  1,\n",
       "        3,  2,  8,  3,  3,  1,  2,  2, -1,  3,  1, -1,  1,  7,  0, -1, -1,\n",
       "        0,  0,  0, -1,  2,  3,  1,  2, -1,  1,  2,  2,  0,  2,  0,  3,  2,\n",
       "        3,  0,  3, -1,  2, -1, -1,  0,  3,  0,  1, -1,  2,  2,  2,  0,  3,\n",
       "       -1,  2,  1, -1,  0,  2,  2,  4,  2,  1,  3,  0, -1,  1,  3,  3,  0,\n",
       "        1,  3,  5, -1,  0,  1,  3, -1,  2,  2,  1,  6,  3, -1, -1,  4, -1,\n",
       "        7,  3,  1,  3, -1,  1, -1,  1,  8, -1,  3, -1,  3, -1,  0,  3,  6,\n",
       "       -1, -1,  3, -1,  3,  6,  3,  3,  8,  3,  2, -1,  2,  2, -1,  0,  8,\n",
       "        9,  0, -1,  7, -1,  2,  1, -1, -1,  2,  0, -1,  0,  0,  0,  1, -1,\n",
       "        5, 10,  2,  0,  2,  3,  1, -1,  1,  1,  6,  1, -1, -1,  5,  3,  1,\n",
       "        1,  0,  3, -1, -1,  0,  3,  3,  1,  2,  3,  1,  2,  2,  5,  1,  1,\n",
       "        1,  3,  0, -1,  2,  1,  1,  2,  2,  9, -1,  2,  0,  1,  2, 10,  2,\n",
       "        1, -1,  2,  4,  1, -1,  1,  2,  5, -1,  0,  2,  2,  3, -1,  1,  0,\n",
       "        3,  3,  9, 10,  9, -1, -1,  0, -1,  1, -1,  1, -1,  2,  1,  3,  2,\n",
       "       -1,  2,  3,  5, -1,  0,  0,  0,  0,  2,  2, -1, -1,  2,  3,  1,  2,\n",
       "       -1, -1,  3,  3,  0,  1,  5, -1,  3, -1,  2,  1,  7, -1,  3,  3,  9,\n",
       "        2, -1, -1, 10,  6, -1,  0,  0,  3,  3, -1,  3,  3, -1,  0, -1,  0,\n",
       "        1, -1,  3,  0, -1,  0, -1,  3,  1, -1,  2], dtype=int64)"
      ]
     },
     "execution_count": 15,
     "metadata": {},
     "output_type": "execute_result"
    }
   ],
   "source": [
    "#%% \n",
    "clusters = m.labels_\n",
    "clusters"
   ]
  },
  {
   "cell_type": "code",
   "execution_count": 18,
   "metadata": {},
   "outputs": [],
   "source": [
    "#%%\n",
    "colors = ['royalblue', 'maroon', 'forestgreen','mediumorchid', 'tan','deeppink','olive','goldenrod','lightcyan','navy']\n",
    "vectorizer = numpy.vectorize(lambda x: colors[x % len(colors)])"
   ]
  },
  {
   "cell_type": "code",
   "execution_count": 20,
   "metadata": {},
   "outputs": [
    {
     "data": {
      "text/plain": [
       "<matplotlib.collections.PathCollection at 0x234ee777828>"
      ]
     },
     "execution_count": 20,
     "metadata": {},
     "output_type": "execute_result"
    },
    {
     "data": {
      "image/png": "[encoded data removed]",
      "text/plain": [
       "<Figure size 432x288 with 1 Axes>"
      ]
     },
     "metadata": {
      "needs_background": "light"
     },
     "output_type": "display_data"
    }
   ],
   "source": [
    "#%%\n",
    "plt.scatter(X[:,0], X[:,1], c=vectorizer(clusters))"
   ]
  },
  {
   "cell_type": "code",
   "execution_count": 26,
   "metadata": {},
   "outputs": [],
   "source": [
    "#%%\n",
    "km = KMeans(n_clusters=10, init='random', n_init=10, max_iter=300, tol= 1e-04, random_state = 0)\n",
    "y_km = km.fit_predict(X)"
   ]
  },
  {
   "cell_type": "code",
   "execution_count": 30,
   "metadata": {
    "scrolled": false
   },
   "outputs": [
    {
     "data": {
      "image/png": "[encoded data removed]",
      "text/plain": [
       "<Figure size 360x576 with 1 Axes>"
      ]
     },
     "metadata": {},
     "output_type": "display_data"
    }
   ],
   "source": [
    "#%%\n",
    "plt.figure(figsize=(5,8))\n",
    "\n",
    "plt.scatter(\n",
    "    X[y_km == 1, 0], X[y_km == 1, 1], s= 50, c='royalblue', marker='s', edgecolor='k', label='cluster 1'\n",
    ")\n",
    "\n",
    "plt.scatter(\n",
    "    X[y_km == 2, 0], X[y_km == 2, 1], s= 50, c='maroon', marker='s', edgecolor='k', label='cluster 2'\n",
    ")\n",
    "\n",
    "plt.scatter(\n",
    "    X[y_km == 3, 0], X[y_km == 3, 1], s= 50, c='forestgreen', marker='s', edgecolor='k', label='cluster 3'\n",
    ")\n",
    "\n",
    "plt.scatter(\n",
    "    X[y_km == 4, 0], X[y_km == 4, 1], s= 50, c='mediumorchid', marker='s', edgecolor='k', label='cluster 4'\n",
    ")\n",
    "\n",
    "plt.scatter(\n",
    "    X[y_km == 5, 0], X[y_km == 5, 1], s= 50, c='tan', marker='s', edgecolor='k', label='cluster 5'\n",
    ")\n",
    "\n",
    "plt.scatter(\n",
    "    X[y_km == 6, 0], X[y_km == 6, 1], s= 50, c='deeppink', marker='s', edgecolor='k', label='cluster 6'\n",
    ")\n",
    "\n",
    "plt.scatter(\n",
    "    X[y_km == 7, 0], X[y_km == 7, 1], s= 50, c='olive', marker='s', edgecolor='k', label='cluster 7'\n",
    ")\n",
    "\n",
    "plt.scatter(\n",
    "    X[y_km == 8, 0], X[y_km == 8, 1], s= 50, c='goldenrod', marker='s', edgecolor='k', label='cluster 8'\n",
    ")\n",
    "\n",
    "plt.scatter(\n",
    "    X[y_km == 9, 0], X[y_km == 9, 1], s= 50, c='lightcyan', marker='s', edgecolor='k', label='cluster 9'\n",
    ")\n",
    "\n",
    "plt.scatter(\n",
    "    X[y_km == 10, 0], X[y_km == 10, 1], s= 50, c='navy', marker='s', edgecolor='k', label='cluster 10'\n",
    ")\n",
    "\n",
    "plt.scatter(km.cluster_centers_[:,0], km.cluster_centers_[:, 1], s=250, marker='*', c='red', edgecolor='k', label='centroids')\n",
    "plt.legend(scatterpoints=1)\n",
    "plt.grid()\n",
    "plt.show()"
   ]
  },
  {
   "cell_type": "code",
   "execution_count": null,
   "metadata": {},
   "outputs": [],
   "source": []
  }
 ],
 "metadata": {
  "kernelspec": {
   "display_name": "Python 3.7.0 64-bit",
   "language": "python",
   "name": "python37064bit83bb15a496cf4cb3ae557d50dbc0a01f"
  },
  "language_info": {
   "codemirror_mode": {
    "name": "ipython",
    "version": 3
   },
   "file_extension": ".py",
   "mimetype": "text/x-python",
   "name": "python",
   "nbconvert_exporter": "python",
   "pygments_lexer": "ipython3",
   "version": "3.7.0"
  }
 },
 "nbformat": 4,
 "nbformat_minor": 2
}
